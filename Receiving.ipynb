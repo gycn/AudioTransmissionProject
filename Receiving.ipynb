{
 "cells": [
  {
   "cell_type": "code",
   "execution_count": null,
   "metadata": {
    "collapsed": true
   },
   "outputs": [],
   "source": [
    "%matplotlib inline\n",
    "from pylab import *\n",
    "import matplotlib.figure\n",
    "import scipy.signal\n",
    "import itertools\n",
    "import random\n",
    "import sounddevice as sd\n",
    "import mpld3\n",
    "mpld3.enable_notebook()\n",
    "\n",
    "import numpy as np\n",
    "import scipy.signal\n",
    "\n",
    "CARRIER_FREQUENCY_HIGH = 5e4\n",
    "CARRIER_FREQUENCY_LOW = 4.5e4\n",
    "\n",
    "CARRIER_FILTER_HALF_SPACE = 15\n",
    "\n",
    "INPUT_SAMPLE_RATE = 1e6\n",
    "\n",
    "WINDOW_FILTER_RESOLUTION = 511\n",
    "\n",
    "ENVELOPE_RESOLUTION = 127\n",
    "\n",
    "DATA_RATE = 100\n",
    "\n",
    "WIND_FIR_LOW = scipy.signal.firwin(WINDOW_FILTER_RESOLUTION, \n",
    "                                    [(CARRIER_FREQUENCY_LOW - CARRIER_FILTER_HALF_SPACE) * 2/ INPUT_SAMPLE_RATE, \n",
    "                                     (CARRIER_FREQUENCY_LOW - CARRIER_FILTER_HALF_SAPCE) * 2/ INPUT_SAMPLE_RATE], pass_zero=False)\n",
    "\n",
    "WIND_FIR_HIGH = scipy.signal.firwin(WINDOW_FILTER_RESOLUTION, \n",
    "                                    [(CARRIER_FREQUENCY_HIGH - CARRIER_FILTER_HALF_SPACE) * 2/ INPUT_SAMPLE_RATE, \n",
    "                                     (CARRIER_FREQUENCY_HIGH + CARRIER_FILTER_HALF_SPACE) * 2/ INPUT_SAMPLE_RATE], pass_zero=False)\n",
    "\n",
    "ENVELOPE_COEFF = scipy.signal.firwin(ENVELOPE_RESOLUTION, DATA_RATE / INPUT_SAMPLE_RATE)\n",
    "\n",
    "def bit_detection(input_data, start_sequence):\n",
    "    low_filtered = np.abs(convolve(input_data, WIND_FIR_LOW))\n",
    "    high_filtered = np.abs(convolve(input_data, WIND_FIR_LOW))\n",
    "    \n",
    "    envelope_low = convolve(low_filtered, low_pass_coeff)\n",
    "    envelope_high = convolve(high_filtered, low_pass_coeff)\n",
    "    \n",
    "    recovered_data = envelope_high - envelope_low\n",
    "\n",
    "    plt.figure()\n",
    "    plt.plot(envelope_low)\n",
    "    plt.plot(envelope_high)\n",
    "    plt.plot(recovered_data)\n",
    "\n",
    "    recovered_bits = [1]\n",
    "    \n",
    "    for bit in (recovered_data):\n",
    "        if recovered_bits[-1] == 1 and bit < -0.01:\n",
    "            recovered_bits.append(0)\n",
    "        elif recovered_bits[-1] == 0 and bit > 0.01:\n",
    "            recovered_bits.append(1)\n",
    "        else:\n",
    "            recovered_bits.append(recovered_bits[-1])\n",
    "    \n",
    "    plt.show()\n",
    "    return recovered_bits\n"
   ]
  },
  {
   "cell_type": "code",
   "execution_count": null,
   "metadata": {
    "collapsed": true
   },
   "outputs": [],
   "source": [
    "def listen_to_bits(time_incr, listen_intervals, fs):\n",
    "    all_recordings = []\n",
    "    for i in range(listen_intervals):\n",
    "        rec = sd.rec(int(time_incr * fs), samplerate=fs, channels=2)\n",
    "        all_recordings.append(rec)\n",
    "        temp_record = np.array(all_recordings)\n",
    "        "
   ]
  }
 ],
 "metadata": {
  "kernelspec": {
   "display_name": "Python 3",
   "language": "python",
   "name": "python3"
  },
  "language_info": {
   "codemirror_mode": {
    "name": "ipython",
    "version": 3
   },
   "file_extension": ".py",
   "mimetype": "text/x-python",
   "name": "python",
   "nbconvert_exporter": "python",
   "pygments_lexer": "ipython3",
   "version": "3.6.0"
  }
 },
 "nbformat": 4,
 "nbformat_minor": 2
}
